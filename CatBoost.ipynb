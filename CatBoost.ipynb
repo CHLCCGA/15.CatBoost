{
 "cells": [
  {
   "cell_type": "markdown",
   "metadata": {},
   "source": [
    "# CatBoost"
   ]
  },
  {
   "cell_type": "markdown",
   "metadata": {},
   "source": [
    "https://cloud.tencent.com/developer/article/1546808\n",
    "\n",
    "https://cloud.tencent.com/developer/article/1587820\n",
    "\n",
    "https://catboost.ai/\n",
    "\n",
    "catboost完全指南，地址：https://zhuanlan.zhihu.com/p/102570430\n",
    "CatBoost原理及实践 - Dukey的文章 - 知乎 https://zhuanlan.zhihu.com/p/37916954\n",
    "22(7).模型融合---CatBoost，地址：https://www.cnblogs.com/nxf-rabbit75/p/10923549.html#auto_id_0\n",
    "catboost对类别特征处理的简单总结，地址：https://blog.csdn.net/weixin_42944192/article/details/102463796"
   ]
  },
  {
   "cell_type": "markdown",
   "metadata": {},
   "source": [
    "### without Categorical features"
   ]
  },
  {
   "cell_type": "code",
   "execution_count": null,
   "metadata": {},
   "outputs": [],
   "source": [
    "import pandas as pd, numpy as np\n",
    "from sklearn.model_selection import train_test_split, GridSearchCV\n",
    "from sklearn import metrics\n",
    "import catboost as cb\n",
    "\n",
    "# 一共有约 500 万条记录，我使用了 1% 的数据：5 万行记录\n",
    "# data = pd.read_csv(\"flight-delays/flights.csv\")\n",
    "# data = data.sample(frac=0.1, random_state=10)  # 500->50\n",
    "# data = data.sample(frac=0.1, random_state=10)  # 50->5\n",
    "# data.to_csv(\"flight-delays/min_flights.csv\")\n",
    "\n",
    "# 读取 5 万行记录\n",
    "data = pd.read_csv(\"flight-delays/min_flights.csv\")\n",
    "print(data.shape)  # (58191, 31)\n",
    "\n",
    "data = data[[\"MONTH\", \"DAY\", \"DAY_OF_WEEK\", \"AIRLINE\", \"FLIGHT_NUMBER\", \"DESTINATION_AIRPORT\",\n",
    "             \"ORIGIN_AIRPORT\", \"AIR_TIME\", \"DEPARTURE_TIME\", \"DISTANCE\", \"ARRIVAL_DELAY\"]]\n",
    "data.dropna(inplace=True)\n",
    "\n",
    "data[\"ARRIVAL_DELAY\"] = (data[\"ARRIVAL_DELAY\"] > 10) * 1\n",
    "\n",
    "cols = [\"AIRLINE\", \"FLIGHT_NUMBER\", \"DESTINATION_AIRPORT\", \"ORIGIN_AIRPORT\"]\n",
    "for item in cols:\n",
    "    data[item] = data[item].astype(\"category\").cat.codes + 1\n",
    "\n",
    "train, test, y_train, y_test = train_test_split(data.drop([\"ARRIVAL_DELAY\"], axis=1), data[\"ARRIVAL_DELAY\"],\n",
    "                                                random_state=10, test_size=0.25)\n",
    "\n",
    "cat_features_index = [0, 1, 2, 3, 4, 5, 6]\n",
    "\n",
    "\n",
    "def auc(m, train, test):\n",
    "    return (metrics.roc_auc_score(y_train, m.predict_proba(train)[:, 1]),\n",
    "            metrics.roc_auc_score(y_test, m.predict_proba(test)[:, 1]))\n",
    "\n",
    "\n",
    "# 调参，用网格搜索调出最优参数\n",
    "params = {'depth': [4, 7, 10],\n",
    "          'learning_rate': [0.03, 0.1, 0.15],\n",
    "          'l2_leaf_reg': [1, 4, 9],\n",
    "          'iterations': [300, 500]}\n",
    "cb = cb.CatBoostClassifier()\n",
    "cb_model = GridSearchCV(cb, params, scoring=\"roc_auc\", cv=3)\n",
    "cb_model.fit(train, y_train)\n",
    "# 查看最佳分数\n",
    "print(cb_model.best_score_)  # 0.7088001891107445\n",
    "# 查看最佳参数\n",
    "print(cb_model.best_params_)  # {'depth': 4, 'iterations': 500, 'l2_leaf_reg': 9, 'learning_rate': 0.15}\n",
    "\n",
    "# With Categorical features，用最优参数拟合数据\n",
    "clf = cb.CatBoostClassifier(eval_metric=\"AUC\", depth=4, iterations=500, l2_leaf_reg=9,\n",
    "                            learning_rate=0.15)\n",
    "\n",
    "clf.fit(train, y_train)\n",
    "\n",
    "print(auc(clf, train, test))  # (0.7809684655761157, 0.7104617034553192)"
   ]
  },
  {
   "cell_type": "markdown",
   "metadata": {},
   "source": [
    "### with Categorical features"
   ]
  },
  {
   "cell_type": "code",
   "execution_count": null,
   "metadata": {},
   "outputs": [],
   "source": [
    "import pandas as pd, numpy as np\n",
    "from sklearn.model_selection import train_test_split, GridSearchCV\n",
    "from sklearn import metrics\n",
    "import catboost as cb\n",
    "\n",
    "# 读取 5 万行记录\n",
    "data = pd.read_csv(\"flight-delays/min_flights.csv\")\n",
    "print(data.shape)  # (58191, 31)\n",
    "\n",
    "data = data[[\"MONTH\", \"DAY\", \"DAY_OF_WEEK\", \"AIRLINE\", \"FLIGHT_NUMBER\", \"DESTINATION_AIRPORT\",\n",
    "             \"ORIGIN_AIRPORT\", \"AIR_TIME\", \"DEPARTURE_TIME\", \"DISTANCE\", \"ARRIVAL_DELAY\"]]\n",
    "data.dropna(inplace=True)\n",
    "\n",
    "data[\"ARRIVAL_DELAY\"] = (data[\"ARRIVAL_DELAY\"] > 10) * 1\n",
    "\n",
    "cols = [\"AIRLINE\", \"FLIGHT_NUMBER\", \"DESTINATION_AIRPORT\", \"ORIGIN_AIRPORT\"]\n",
    "for item in cols:\n",
    "    data[item] = data[item].astype(\"category\").cat.codes + 1\n",
    "\n",
    "train, test, y_train, y_test = train_test_split(data.drop([\"ARRIVAL_DELAY\"], axis=1), data[\"ARRIVAL_DELAY\"],\n",
    "                                                random_state=10, test_size=0.25)\n",
    "\n",
    "cat_features_index = [0, 1, 2, 3, 4, 5, 6]\n",
    "\n",
    "\n",
    "def auc(m, train, test):\n",
    "    return (metrics.roc_auc_score(y_train, m.predict_proba(train)[:, 1]),\n",
    "            metrics.roc_auc_score(y_test, m.predict_proba(test)[:, 1]))\n",
    "\n",
    "\n",
    "# With Categorical features\n",
    "clf = cb.CatBoostClassifier(eval_metric=\"AUC\", one_hot_max_size=31, depth=4, iterations=500, l2_leaf_reg=9,\n",
    "                            learning_rate=0.15)\n",
    "clf.fit(train, y_train, cat_features=cat_features_index)\n",
    "\n",
    "print(auc(clf, train, test))  # (0.7817912095285117, 0.7152541135019913)"
   ]
  }
 ],
 "metadata": {
  "kernelspec": {
   "display_name": "base",
   "language": "python",
   "name": "python3"
  },
  "language_info": {
   "name": "python",
   "version": "3.11.5"
  }
 },
 "nbformat": 4,
 "nbformat_minor": 2
}
